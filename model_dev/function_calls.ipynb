{
 "cells": [
  {
   "cell_type": "code",
   "execution_count": 2,
   "id": "488ebecf-33de-40ec-a7fe-d48a7a09597d",
   "metadata": {},
   "outputs": [],
   "source": [
    "# I/O\n",
    "import pandas as pd\n",
    "pd.set_option('display.max_columns', None)\n",
    "import numpy as np\n",
    "import geopandas as gpd\n",
    "import requests\n",
    "from io import BytesIO\n",
    "from zipfile import ZipFile\n",
    "from datetime import datetime, timedelta"
   ]
  },
  {
   "cell_type": "code",
   "execution_count": null,
   "id": "43ccabc5-2dc0-4b97-9caf-ec31b335f09d",
   "metadata": {},
   "outputs": [],
   "source": [
    "def pull_cabi_data(year, m1, m2, m3):\n",
    "    \"\"\"\n",
    "    \n",
    "    \"\"\"\n",
    "\n",
    "# URL of the zipped data file\n",
    "year = 2024\n",
    "m1='01' \n",
    "m2='02'\n",
    "m3='03'\n",
    "urls = [f'https://s3.amazonaws.com/capitalbikeshare-data/{year}{m1}-capitalbikeshare-tripdata.zip',\n",
    "        f'https://s3.amazonaws.com/capitalbikeshare-data/{year}{m2}-capitalbikeshare-tripdata.zip', \n",
    "        f'https://s3.amazonaws.com/capitalbikeshare-data/{year}{m3}-capitalbikeshare-tripdata.zip']"
   ]
  },
  {
   "cell_type": "code",
   "execution_count": null,
   "id": "bd9ba9b9-2f6a-4f96-b10e-50c4a3e468c9",
   "metadata": {},
   "outputs": [],
   "source": []
  },
  {
   "cell_type": "code",
   "execution_count": null,
   "id": "fa01de2b-a4c4-4aa6-a08a-5221e47b2173",
   "metadata": {},
   "outputs": [],
   "source": []
  },
  {
   "cell_type": "code",
   "execution_count": null,
   "id": "4fcaf670-e9f5-47cc-aa2e-19811d4b8fd2",
   "metadata": {},
   "outputs": [],
   "source": []
  },
  {
   "cell_type": "code",
   "execution_count": null,
   "id": "24cb8b4a-5921-45c7-8916-a9b99f9c6977",
   "metadata": {},
   "outputs": [],
   "source": []
  },
  {
   "cell_type": "code",
   "execution_count": null,
   "id": "c8bf6032-17d5-4a02-9a68-669548499796",
   "metadata": {},
   "outputs": [],
   "source": []
  }
 ],
 "metadata": {
  "kernelspec": {
   "display_name": "Python 3 (ipykernel)",
   "language": "python",
   "name": "python3"
  },
  "language_info": {
   "codemirror_mode": {
    "name": "ipython",
    "version": 3
   },
   "file_extension": ".py",
   "mimetype": "text/x-python",
   "name": "python",
   "nbconvert_exporter": "python",
   "pygments_lexer": "ipython3",
   "version": "3.12.4"
  }
 },
 "nbformat": 4,
 "nbformat_minor": 5
}
